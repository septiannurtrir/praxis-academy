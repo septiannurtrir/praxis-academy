{
 "cells": [
  {
   "cell_type": "code",
   "execution_count": 1,
   "metadata": {},
   "outputs": [
    {
     "name": "stdout",
     "output_type": "stream",
     "text": [
      "['Satu', 'Dua', 'Tiga', 'Empat']\n"
     ]
    }
   ],
   "source": [
    "Data = [\"Satu\", \"Dua\", \"Tiga\", \"Empat\"]\n",
    "print (Data)"
   ]
  },
  {
   "cell_type": "code",
   "execution_count": 2,
   "metadata": {},
   "outputs": [
    {
     "name": "stdout",
     "output_type": "stream",
     "text": [
      "['Satu', 'Dua', 'Tiga', 'Empat', 'Lima']\n"
     ]
    }
   ],
   "source": [
    "Data = [\"Satu\", \"Dua\", \"Tiga\", \"Empat\"]\n",
    "Data.append(\"Lima\")\n",
    "print(Data)"
   ]
  },
  {
   "cell_type": "code",
   "execution_count": 4,
   "metadata": {},
   "outputs": [
    {
     "name": "stdout",
     "output_type": "stream",
     "text": [
      "['Satu', 'Dua', 'Tiga', 'Empat', 'L', 'i', 'm', 'a']\n"
     ]
    }
   ],
   "source": [
    "Data = [\"Satu\", \"Dua\", \"Tiga\", \"Empat\"]\n",
    "Data.extend(\"Lima\")\n",
    "print(Data)"
   ]
  },
  {
   "cell_type": "code",
   "execution_count": 5,
   "metadata": {},
   "outputs": [
    {
     "name": "stdout",
     "output_type": "stream",
     "text": [
      "['Lima', 'Satu', 'Dua', 'Tiga', 'Empat']\n"
     ]
    }
   ],
   "source": [
    "Data = [\"Satu\", \"Dua\", \"Tiga\", \"Empat\"]\n",
    "Data.insert(0,\"Lima\")\n",
    "print(Data)"
   ]
  },
  {
   "cell_type": "code",
   "execution_count": 6,
   "metadata": {},
   "outputs": [
    {
     "name": "stdout",
     "output_type": "stream",
     "text": [
      "['Dua', 'Tiga', 'Empat']\n"
     ]
    }
   ],
   "source": [
    "Data = [\"Satu\", \"Dua\", \"Tiga\", \"Empat\"]\n",
    "Data.remove(\"Satu\")\n",
    "print(Data)"
   ]
  },
  {
   "cell_type": "code",
   "execution_count": 7,
   "metadata": {},
   "outputs": [
    {
     "name": "stdout",
     "output_type": "stream",
     "text": [
      "['Satu', 'Dua', 'Tiga']\n"
     ]
    }
   ],
   "source": [
    "Data = [\"Satu\", \"Dua\", \"Tiga\", \"Empat\"]\n",
    "Data.pop()\n",
    "print(Data)"
   ]
  },
  {
   "cell_type": "code",
   "execution_count": 8,
   "metadata": {},
   "outputs": [
    {
     "name": "stdout",
     "output_type": "stream",
     "text": [
      "[]\n"
     ]
    }
   ],
   "source": [
    "Data = [\"Satu\", \"Dua\", \"Tiga\", \"Empat\"]\n",
    "Data.clear()\n",
    "print(Data)"
   ]
  },
  {
   "cell_type": "code",
   "execution_count": 17,
   "metadata": {},
   "outputs": [
    {
     "name": "stdout",
     "output_type": "stream",
     "text": [
      "0\n"
     ]
    }
   ],
   "source": [
    "Data = [\"Satu\", \"Dua\", \"Tiga\", \"Empat\"]\n",
    "Data2 = Data.index(\"Satu\")\n",
    "print(Data2)"
   ]
  },
  {
   "cell_type": "code",
   "execution_count": 28,
   "metadata": {},
   "outputs": [
    {
     "name": "stdout",
     "output_type": "stream",
     "text": [
      "1\n"
     ]
    }
   ],
   "source": [
    "Data = [\"Satu\", \"Dua\", \"Tiga\", \"Empat\"]\n",
    "Data2 = Data.count(\"Dua\")\n",
    "print(Data2)"
   ]
  },
  {
   "cell_type": "code",
   "execution_count": 29,
   "metadata": {},
   "outputs": [
    {
     "name": "stdout",
     "output_type": "stream",
     "text": [
      "['Dua', 'Empat', 'Satu', 'Tiga']\n"
     ]
    }
   ],
   "source": [
    "Data = [\"Satu\", \"Dua\", \"Tiga\", \"Empat\"]\n",
    "Data.sort()\n",
    "print(Data)"
   ]
  },
  {
   "cell_type": "code",
   "execution_count": 30,
   "metadata": {},
   "outputs": [
    {
     "name": "stdout",
     "output_type": "stream",
     "text": [
      "['Empat', 'Tiga', 'Dua', 'Satu']\n"
     ]
    }
   ],
   "source": [
    "Data = [\"Satu\", \"Dua\", \"Tiga\", \"Empat\"]\n",
    "Data.reverse()\n",
    "print(Data)"
   ]
  },
  {
   "cell_type": "code",
   "execution_count": 31,
   "metadata": {},
   "outputs": [
    {
     "name": "stdout",
     "output_type": "stream",
     "text": [
      "['Satu', 'Dua', 'Tiga', 'Empat']\n"
     ]
    }
   ],
   "source": [
    "Data = [\"Satu\", \"Dua\", \"Tiga\", \"Empat\"]\n",
    "Data.copy()\n",
    "print(Data)"
   ]
  },
  {
   "cell_type": "code",
   "execution_count": null,
   "metadata": {},
   "outputs": [],
   "source": []
  }
 ],
 "metadata": {
  "kernelspec": {
   "display_name": "Python 3",
   "language": "python",
   "name": "python3"
  },
  "language_info": {
   "codemirror_mode": {
    "name": "ipython",
    "version": 3
   },
   "file_extension": ".py",
   "mimetype": "text/x-python",
   "name": "python",
   "nbconvert_exporter": "python",
   "pygments_lexer": "ipython3",
   "version": "3.7.1"
  }
 },
 "nbformat": 4,
 "nbformat_minor": 2
}
